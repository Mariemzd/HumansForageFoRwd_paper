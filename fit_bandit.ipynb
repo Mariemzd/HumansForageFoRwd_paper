{
 "cells": [
  {
   "cell_type": "code",
   "execution_count": 38,
   "metadata": {},
   "outputs": [],
   "source": [
    "# imports \n",
    "import numpy as np\n",
    "from tqdm import tqdm\n",
    "import pandas as pd\n",
    "import matplotlib.pyplot as plt\n",
    "from scipy import stats\n",
    "from scipy.optimize import curve_fit\n",
    "import plotly.graph_objects as go\n",
    "import numpy as np\n",
    "import plotly.express as px\n",
    "import plotly.graph_objects as go\n",
    "from plotly.subplots import make_subplots\n",
    "import pickle\n",
    "from scipy.optimize import minimize\n",
    "import os\n",
    "import sys\n",
    "import matplotlib.colors as mcolors\n",
    "\n",
    "\n",
    "npa= np.array\n",
    "\n",
    "\n",
    
   ]
  },
  {
   "cell_type": "code",
   "execution_count": 11,
   "metadata": {},
   "outputs": [],
   "source": [
    "#define bounds \n",
    "alpha_bnd = (0,1)\n",
    "beta_bnd = (0, 100)\n",
    "rho_bnd = (-1.5,1.5) \n",
    "epsilon = 1e-10"
   ]
  },
  {
   "cell_type": "code",
   "execution_count": 12,
   "metadata": {},
   "outputs": [],
   "source": [
    "#extract data\n",
    "with open('/Users/mac/Desktop/GIT_RL_FORAGING_project/Mariem_Foraging_Q/Simulation_modules/all_sub_2ab.pickle', 'rb') as handle:\n",
    "    all_sub_2ab = pickle.load(handle)\n",
    "\n",
    "subs = all_sub_2ab.keys()\n",
    "\n",
    "def LSE(x): \n",
    "    x = np.array(x)\n",
    "    c=np.max(x)\n",
    "    return c + np.log(np.sum(np.exp(x - c)))"
   ]
  },
  {
   "cell_type": "code",
   "execution_count": 13,
   "metadata": {},
   "outputs": [
    {
     "name": "stderr",
     "output_type": "stream",
     "text": [
      "100%|██████████| 258/258 [00:00<00:00, 3157.94it/s]\n"
     ]
    }
   ],
   "source": [
    "excluded_subs = []\n",
    "for sub in tqdm(subs) : \n",
    "    df= all_sub_2ab[sub]\n",
    "    df= df.drop(df.index[0:25])\n",
    "    switch = np.array((df['choice'] != df['choice'].shift()).cumsum())[-1]\n",
    "    if switch < 2 : \n",
    "        excluded_subs.append(sub) \n",
    "    \n",
    "subs = [sub for sub in subs if sub not in excluded_subs]\n",
    "    "
   ]
  },
  {
   "attachments": {},
   "cell_type": "markdown",
   "metadata": {},
   "source": [
    "## Define models \n",
    "**Q-learning** : Initial Q-values = 0.5,0.5\n",
    "**Foraging** : Initial V_oit = 1"
   ]
  },
  {
   "cell_type": "code",
   "execution_count": 14,
   "metadata": {},
   "outputs": [],
   "source": [
    "def ql_model(theta,df):\n",
    "\n",
    "    sideList= df['choice'].tolist()\n",
    "    rewardList = df['reward'].tolist()\n",
    "    \n",
    "    karm= max(sideList)+1\n",
    "    Qvalue = np.zeros(karm)+(1/karm) \n",
    "\n",
    "    alpha = theta[0]\n",
    "    beta = theta[1]\n",
    "\n",
    "    probList=[]\n",
    "\n",
    "    for i in range (len(rewardList)):\n",
    "        arm = int(sideList[i]) \n",
    "\n",
    "        \n",
    "        ##Softmax function\n",
    "        prob = np.exp((Qvalue[arm]*beta)-LSE(Qvalue*beta))\n",
    "        \n",
    "        probList.append(prob)\n",
    "        Qvalue [arm] += alpha*(rewardList[i]-Qvalue[arm])\n",
    "\n",
    "        ##log likelihood\n",
    "    logLike = (np.sum(np.log(npa(probList)+epsilon))) * (-1)\n",
    "    \n",
    "    return logLike"
   ]
  },
  {
   "cell_type": "code",
   "execution_count": 15,
   "metadata": {},
   "outputs": [],
   "source": [
    "def forage_model(theta,df):  \n",
    "\n",
    "    \n",
    "    sideList= df['choice'].tolist()\n",
    "    rewardList = df['reward'].tolist()\n",
    "    \n",
    "   \n",
    "    oitOreList= []\n",
    "\n",
    "    #switch/explore = 0, stay/exploit = 1\n",
    "    for j in range (len(sideList)-1):  \n",
    "        if sideList[j]==sideList[j+1]:\n",
    "            oitOreList.append(1)\n",
    "        else:\n",
    "            oitOreList.append(0)\n",
    "\n",
    "    rewardList = rewardList[1:]\n",
    "    \n",
    "    \n",
    "\n",
    "    alpha = theta[0]\n",
    "    beta = theta[1]   \n",
    "    rho = theta[2]\n",
    "\n",
    "    v_oit = 1\n",
    "\n",
    "    probList=[]\n",
    "    for i in range (len(rewardList)):\n",
    "        oit = oitOreList[i] # oit or ore \n",
    "\n",
    "        if oit == 1:\n",
    "            prob = np.exp((v_oit*beta)-LSE([v_oit*beta, rho*beta]))\n",
    "            probList.append(prob)\n",
    "            v_oit += alpha*(rewardList[i]-v_oit)\n",
    "\n",
    "        if oit == 0:\n",
    "            prob = 1-(np.exp((v_oit*beta)-LSE([v_oit*beta, rho*beta])))\n",
    "            probList.append(prob)\n",
    "            v_oit = rho + alpha*(rewardList[i]-rho) \n",
    "    \n",
    "\n",
    "    ##log likelihood\n",
    "    logLike = (np.sum(np.log(npa(probList)+epsilon))) * (-1)\n",
    "  \n",
    "    return logLike"
   ]
  },
  {
   "cell_type": "markdown",
   "metadata": {},
   "source": [
    "### 3. Optimisation step"
   ]
  },
  {
   "cell_type": "code",
   "execution_count": 37,
   "metadata": {},
   "outputs": [],
   "source": [
    "def fitQL(sub,df, replication) : \n",
    "    nll = []\n",
    "    alphaList = []\n",
    "    betaList = []\n",
    "\n",
    "    succ_list = []\n",
    "    msg_list = []\n",
    "\n",
    "    bnds = (alpha_bnd,beta_bnd )\n",
    "    \n",
    "    for h in range (replication):\n",
    "        \n",
    "    \n",
    "        alpha = np.random.random()\n",
    "        beta = np.random.exponential(scale =1, size = None)\n",
    "        startParams = [alpha, beta]\n",
    "        theta_optim = minimize(lambda startParams : ql_model(startParams,df), startParams, \n",
    "                               method = \"Nelder-Mead\", bounds = bnds,\n",
    "                               options={'maxfev': 1000,'maxiter': 1000, 'xatol':0.001, 'fatol': 0.001 } )\n",
    "        \n",
    "        if h == 0:\n",
    "            minimizeLog = theta_optim.fun\n",
    "            optimX = theta_optim.x\n",
    "        else:\n",
    "            if theta_optim.fun < minimizeLog:\n",
    "                minimizeLog = theta_optim.fun\n",
    "                optimX = theta_optim.x\n",
    "\n",
    "        succ = theta_optim.success\n",
    "        mgs = theta_optim.message\n",
    "\n",
    "    nll.append(minimizeLog)\n",
    "    theta =  (optimX.tolist())\n",
    "    alphaList.append(theta[0])\n",
    "    betaList.append(theta[1])\n",
    "    succ_list.append(succ)\n",
    "    msg_list.append(mgs)\n",
    "    dataDict = {'sub': sub ,'alpha': alphaList, 'beta': betaList,  'likelihood': nll, 'succ':succ_list, 'msg':msg_list}\n",
    "    opt_QL = pd.DataFrame(dataDict)\n",
    "    return opt_QL\n"
   ]
  },
  {
   "cell_type": "code",
   "execution_count": 39,
   "metadata": {},
   "outputs": [],
   "source": [
    "def fitFOR(sub,df,replication) :\n",
    "\n",
    "    nll = []\n",
    "    alphaList = []\n",
    "    betaList = []\n",
    "    rhoList = []\n",
    "    \n",
    "    bnds = (alpha_bnd,beta_bnd,rho_bnd )\n",
    "    \n",
    "    succ_list = []\n",
    "    msg_list = []\n",
    "\n",
    "    for h in range (replication):\n",
    "        \n",
    "        alpha = np.random.random()\n",
    "        beta = np.random.exponential(scale =1, size = None)\n",
    "        rho = np.random.uniform(rho_bnd[0], rho_bnd[1])\n",
    "        \n",
    "\n",
    "        startParams = [alpha, beta,rho]\n",
    "        theta_optim = minimize(lambda startParams : forage_model(startParams,df), startParams, \n",
    "                               method = \"Nelder-Mead\", bounds = bnds, \n",
    "                               options={'maxfev': 1000,'maxiter': 1000, 'xatol':0.001, 'fatol': 0.001})\n",
    "\n",
    "        if h == 0:\n",
    "            minimizeLog = theta_optim.fun\n",
    "            optimX = theta_optim.x\n",
    "        else:\n",
    "            if theta_optim.fun < minimizeLog:\n",
    "                \n",
    "                minimizeLog = theta_optim.fun\n",
    "                optimX = theta_optim.x\n",
    "                \n",
    "        succF = theta_optim.success\n",
    "        mgs_F = theta_optim.message\n",
    "\n",
    "    nll.append(minimizeLog)\n",
    "    theta =  (optimX.tolist())\n",
    "    alphaList.append(theta[0])\n",
    "    betaList.append(theta[1])\n",
    "    rhoList.append(theta[2])\n",
    "    succ_list.append(succF)\n",
    "    msg_list.append(mgs_F)\n",
    "\n",
    "    dataDict = { 'sub':sub, 'alpha': alphaList, 'beta': betaList, 'threshold': rhoList, \n",
    "                'likelihood': nll,'succ':succ_list, 'msg':msg_list}\n",
    "    opt_FOR = pd.DataFrame(dataDict)\n",
    "    return opt_FOR\n",
    "    "
   ]
  },
  {
   "cell_type": "code",
   "execution_count": 18,
   "metadata": {},
   "outputs": [
    {
     "name": "stderr",
     "output_type": "stream",
     "text": [
      "100%|██████████| 254/254 [1:27:27<00:00, 20.66s/it]\n"
     ]
    }
   ],
   "source": [
    "opt_QL = pd.DataFrame()\n",
    "opt_FOR = pd.DataFrame()\n",
    "\n",
    "for sub in tqdm(subs) : \n",
    "    n_rep=50\n",
    "    df= all_sub_2ab[sub]\n",
    "    df= df.drop(df.index[0:25])\n",
    "    data = fitFOR(sub,df,n_rep)\n",
    "    opt_FOR = pd.concat([opt_FOR,data], axis= 0)\n",
    "    data = fitQL(sub,df,n_rep)\n",
    "    opt_QL = pd.concat([opt_QL,data], axis= 0)\n"
   ]
  },
  {
   "cell_type": "code",
   "execution_count": 40,
   "metadata": {},
   "outputs": [
    {
     "name": "stderr",
     "output_type": "stream",
     "text": [
      "100%|██████████| 7/7 [27:27<00:00, 235.42s/it]\n"
     ]
    }
   ],
   "source": [
    "# reseed_subs = opt_FOR['sub'].loc[opt_FOR['succ']==False].to_list()\n",
    "# opt_FOR_reseed= pd.DataFrame()\n",
    "\n",
    "# for sub in tqdm(reseed_subs) : \n",
    "#     n_rep=100\n",
    "#     df= all_sub_2ab[sub]\n",
    "#     df= df.drop(df.index[0:25])\n",
    "#     data = fitFOR(sub,df,n_rep)\n",
    "#     opt_FOR_reseed = pd.concat([opt_FOR_reseed,data], axis= 0)\n",
    "\n",
    "# #replace the failed optimization with the reseeded optimization\n",
    "# opt_FOR = opt_FOR[~opt_FOR['sub'].isin(reseed_subs)] \n",
    "# opt_FOR = pd.concat([opt_FOR,opt_FOR_reseed], axis= 0)\n",
    "\n"
   ]
  },
  {
   "cell_type": "code",
   "execution_count": 45,
   "metadata": {},
   "outputs": [],
   "source": [
    "# #Save stuff \n",
    "opt_FOR.to_csv('./params_csv/2AB_final_fitFOR.csv')\n",
    "opt_QL.to_csv('./params_csv/2AB_final_fitQL.csv')"
   ]
  }
 ],
 "metadata": {
  "kernelspec": {
   "display_name": "base",
   "language": "python",
   "name": "python3"
  },
  "language_info": {
   "codemirror_mode": {
    "name": "ipython",
    "version": 3
   },
   "file_extension": ".py",
   "mimetype": "text/x-python",
   "name": "python",
   "nbconvert_exporter": "python",
   "pygments_lexer": "ipython3",
   "version": "3.9.16"
  },
  "orig_nbformat": 4,
  "vscode": {
   "interpreter": {
    "hash": "748a24a7e12f043e255937764f69584c10b2b974a22ed84d52db2de81e21ea53"
   }
  }
 },
 "nbformat": 4,
 "nbformat_minor": 2
}
