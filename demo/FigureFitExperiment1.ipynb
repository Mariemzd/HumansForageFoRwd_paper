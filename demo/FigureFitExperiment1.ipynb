{
 "cells": [
  {
   "cell_type": "code",
   "execution_count": 15,
   "metadata": {},
   "outputs": [],
   "source": [
    "# imports \n",
    "import pandas as pd\n",
    "import matplotlib.pyplot as plt\n",
    "import numpy as np\n",
    "import pickle\n",
    "import seaborn as sns\n",
    "import gmpy2 as gm\n",
    "\n",
    "\n",
    "npa= np.array"
   ]
  },
  {
   "cell_type": "code",
   "execution_count": null,
   "metadata": {},
   "outputs": [],
   "source": [
    "#import fitted params generated from jupyter notebook \"FitModels_Experiment1\"\n",
    "\n",
    "opt_QL= pd.read_csv('RLParams.csv') \n",
    "opt_FOR= pd.read_csv('ForagingParams.csv') \n"
   ]
  },
  {
   "cell_type": "code",
   "execution_count": 16,
   "metadata": {},
   "outputs": [],
   "source": [
    "####### failed convergence handling #######\n",
    "\n",
    "opt_QL = opt_QL.loc[opt_QL['succ']==True]\n",
    "opt_FOR = opt_FOR.loc[opt_FOR['succ']==True]\n",
    "\n",
    "#ne prends que les sujets en commun\n",
    "subs = [sub for sub in (opt_FOR['sub'].unique()) if sub in opt_QL['sub'].unique()]\n"
   ]
  },
  {
   "cell_type": "markdown",
   "metadata": {},
   "source": [
    "#### Figures layout"
   ]
  },
  {
   "cell_type": "code",
   "execution_count": 17,
   "metadata": {},
   "outputs": [],
   "source": [
    "Fcol='mediumseagreen'\n",
    "Qcol='darkkhaki'\n",
    "\n",
    "tick_fontsize = 15  \n",
    "Fcol='mediumseagreen'\n",
    "Qcol='darkkhaki'\n",
    "col = [Qcol,Fcol]\n",
    "dot_size = 160\n",
    "\n",
    "font = {'family': 'arial',\n",
    "        'color':  'black',\n",
    "        'weight': 'normal',\n",
    "        'size': 20,\n",
    "        }\n",
    "\n",
    "yfont = {'family': 'arial',\n",
    "        'color':  'black',\n",
    "        'weight': 'normal',\n",
    "        'size': 17,\n",
    "        }\n",
    "xfont = {'family': 'arial',\n",
    "         \n",
    "        'color':  'black',\n",
    "        'weight': 'normal',\n",
    "        'size': 17,\n",
    "        }\n",
    "\n",
    "def set_global_plot_style():\n",
    "    \n",
    "\n",
    "    # Set global rcParams\n",
    "    plt.rcParams['svg.fonttype'] = 'none'\n",
    "    plt.rcParams['font.family'] = 'arial'\n",
    "    plt.rcParams['legend.fontsize'] = xfont['size']\n",
    "    plt.rcParams['legend.frameon'] = False\n",
    "    plt.rcParams['axes.spines.top'] = False\n",
    "    plt.rcParams['axes.spines.right'] = False\n",
    "    plt.rcParams['xtick.direction'] = 'in'\n",
    "    plt.rcParams['ytick.direction'] = 'in'\n",
    "    plt.rcParams['xtick.major.size'] = 2\n",
    "    plt.rcParams['ytick.major.size'] = 2\n",
    "    plt.rcParams['xtick.major.width'] = 1.5\n",
    "    plt.rcParams['ytick.major.width'] = 1.5\n",
    "    plt.rcParams['xtick.labelsize'] = tick_fontsize\n",
    "    plt.rcParams['ytick.labelsize'] = tick_fontsize\n",
    "    plt.rcParams['axes.labelsize'] = xfont['size']\n",
    "    plt.rcParams['axes.labelcolor'] = xfont['color']\n",
    "    plt.rcParams['axes.titleweight'] = font['weight']\n",
    "    plt.rcParams['axes.titlesize'] = font['size']\n",
    "    plt.rcParams['axes.titlecolor'] = font['color']\n",
    "    plt.rcParams['svg.fonttype'] = 'none'\n",
    "    \n",
    "\n",
    "\n",
    "# Apply the global style\n",
    "set_global_plot_style()"
   ]
  },
  {
   "cell_type": "markdown",
   "metadata": {},
   "source": [
    "#### Loglikelihood plot"
   ]
  },
  {
   "cell_type": "code",
   "execution_count": 18,
   "metadata": {},
   "outputs": [
    {
     "data": {
      "text/plain": [
       "Text(0, 0.5, '-log likelihood')"
      ]
     },
     "execution_count": 18,
     "metadata": {},
     "output_type": "execute_result"
    },
    {
     "data": {
      "image/png": "[encoded data removed]",
      "text/plain": [
       "<Figure size 252x216 with 1 Axes>"
      ]
     },
     "metadata": {
      "needs_background": "light"
     },
     "output_type": "display_data"
    }
   ],
   "source": [
    "models = ['RL', 'Foraging']\n",
    "y = [opt_QL['likelihood'].sum(), opt_FOR['likelihood'].sum()]\n",
    "\n",
    "#plot\n",
    "\n",
    "plt.figure(figsize=(3.5, 3))\n",
    "plt.scatter(models, y, color=col, s=dot_size)\n",
    "plt.plot(models,y, c='lightgrey' )\n",
    "\n",
    "#set labels\n",
    "plt.xlabel(\"model\",fontdict=xfont)  \n",
    "plt.ylabel(\"-log likelihood\",fontdict=yfont) \n"
   ]
  },
  {
   "cell_type": "markdown",
   "metadata": {},
   "source": [
    "#### AIC plot"
   ]
  },
  {
   "cell_type": "code",
   "execution_count": 19,
   "metadata": {},
   "outputs": [],
   "source": [
    "#compute AIC\n",
    "\n",
    "def AIC(ll, k):\n",
    "    AIC = 2*k  + 2*ll\n",
    "    return AIC\n",
    "\n",
    "AIC_QL = AIC(opt_QL['likelihood'].sum(), 2*len(opt_QL))\n",
    "AIC_FOR = AIC(opt_FOR['likelihood'].sum(), 3*len(opt_FOR))\n"
   ]
  },
  {
   "cell_type": "code",
   "execution_count": 20,
   "metadata": {},
   "outputs": [
    {
     "data": {
      "text/plain": [
       "Text(0, 0.5, '-log likelihood')"
      ]
     },
     "execution_count": 20,
     "metadata": {},
     "output_type": "execute_result"
    },
    {
     "data": {
      "image/png": "[encoded data removed]",
      "text/plain": [
       "<Figure size 252x216 with 1 Axes>"
      ]
     },
     "metadata": {
      "needs_background": "light"
     },
     "output_type": "display_data"
    }
   ],
   "source": [
    "models = ['RL', 'Foraging']\n",
    "y = [AIC_QL, AIC_FOR]\n",
    "\n",
    "#plot\n",
    "\n",
    "plt.figure(figsize=(3.5, 3))\n",
    "plt.scatter(models, y, color=col, s=dot_size)\n",
    "plt.plot(models,y, c='lightgrey' )\n",
    "\n",
    "#set labels\n",
    "plt.xlabel(\"model\",fontdict=xfont)  \n",
    "plt.ylabel(\"-log likelihood\",fontdict=yfont) \n"
   ]
  },
  {
   "attachments": {},
   "cell_type": "markdown",
   "metadata": {},
   "source": [
    "#### STATS"
   ]
  },
  {
   "cell_type": "code",
   "execution_count": 21,
   "metadata": {},
   "outputs": [],
   "source": [
    "def delta_AIC(model_aic):\n",
    "    delta_AIC = model_aic - min(AIC_QL, AIC_FOR)\n",
    "    return delta_AIC"
   ]
  },
  {
   "cell_type": "code",
   "execution_count": 22,
   "metadata": {},
   "outputs": [
    {
     "name": "stdout",
     "output_type": "stream",
     "text": [
      "LL QL = 2218\n",
      "LL foraging = 2058\n",
      "AIC QL: 4584\n",
      "AIC FOR: 4338\n",
      "-----------------------\n",
      "delta_AIC_FOR: 0.0 ///// delta_AIC_QL: 245.7648458612921\n",
      "-----------------------\n",
      "relative likelihood FOR: 1.0 ///// relative likelihood QL: 4.2937998680905833e-54\n",
      "-----------------------\n",
      "Aikake_w_FOR: 1.0 ///// Aikake_w_QL: 4.2937998680905833e-54\n"
     ]
    }
   ],
   "source": [
    "\n",
    "print('LL QL =' ,round(opt_QL['likelihood'].sum()))\n",
    "print('LL foraging =' ,round(opt_FOR['likelihood'].sum()))\n",
    "print('AIC QL:', round(AIC_QL))\n",
    "print( 'AIC FOR:', round(AIC_FOR))\n",
    "\n",
    "print('-----------------------')\n",
    "\n",
    "delta_AIC_QL = delta_AIC(AIC_QL)\n",
    "delta_AIC_FOR = delta_AIC(AIC_FOR)\n",
    "print('delta_AIC_FOR:', delta_AIC_FOR, '/////', 'delta_AIC_QL:', delta_AIC_QL)\n",
    "\n",
    "print('-----------------------')\n",
    "\n",
    "relative_ll_FOR = gm.exp(-0.5*delta_AIC_FOR)\n",
    "relative_ll_QL = gm.exp(-0.5*delta_AIC_QL)\n",
    "print('relative likelihood FOR:', relative_ll_FOR, '/////', 'relative likelihood QL:', relative_ll_QL)\n",
    "\n",
    "print('-----------------------')\n",
    "\n",
    "Aikake_w_FOR = relative_ll_FOR / (relative_ll_FOR + relative_ll_QL)\n",
    "Aikake_w_QL = relative_ll_QL / (relative_ll_FOR + relative_ll_QL)\n",
    "print('Aikake_w_FOR:', Aikake_w_FOR, '/////', 'Aikake_w_QL:', Aikake_w_QL)"
   ]
  },
  {
   "cell_type": "code",
   "execution_count": null,
   "metadata": {},
   "outputs": [],
   "source": []
  }
 ],
 "metadata": {
  "kernelspec": {
   "display_name": "base",
   "language": "python",
   "name": "python3"
  },
  "language_info": {
   "codemirror_mode": {
    "name": "ipython",
    "version": 3
   },
   "file_extension": ".py",
   "mimetype": "text/x-python",
   "name": "python",
   "nbconvert_exporter": "python",
   "pygments_lexer": "ipython3",
   "version": "3.9.16"
  },
  "orig_nbformat": 4,
  "vscode": {
   "interpreter": {
    "hash": "748a24a7e12f043e255937764f69584c10b2b974a22ed84d52db2de81e21ea53"
   }
  }
 },
 "nbformat": 4,
 "nbformat_minor": 2
}
