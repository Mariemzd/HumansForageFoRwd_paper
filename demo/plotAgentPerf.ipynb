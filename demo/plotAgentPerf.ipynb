{
 "cells": [
  {
   "cell_type": "code",
   "execution_count": 4,
   "metadata": {},
   "outputs": [],
   "source": [
    "# imports \n",
    "import numpy as np\n",
    "import matplotlib.pyplot as plt\n",
    "import seaborn as sns\n",
    "import matplotlib.pyplot as plt\n",
    "import pickle as pkl\n",
    "\n"
   ]
  },
  {
   "cell_type": "code",
   "execution_count": 5,
   "metadata": {},
   "outputs": [],
   "source": [
    "with open('bestperfDic.pickle', 'rb') as file:\n",
    "    bestDic = pkl.load(file)"
   ]
  },
  {
   "attachments": {},
   "cell_type": "markdown",
   "metadata": {},
   "source": [
    "PLOTS"
   ]
  },
  {
   "cell_type": "code",
   "execution_count": 6,
   "metadata": {},
   "outputs": [],
   "source": [
    "font = {'family': 'arial',\n",
    "        'color':  'black',\n",
    "        'weight': 'normal',\n",
    "        'size': 20,\n",
    "        }\n",
    "\n",
    "yfont = {'family': 'arial',\n",
    "        'color':  'black',\n",
    "        'weight': 'normal',\n",
    "        'size': 17,\n",
    "        }\n",
    "xfont = {'family': 'arial',\n",
    "        'color':  'black',\n",
    "        'weight': 'normal',\n",
    "        'size': 17,\n",
    "        }\n",
    "\n",
    "Fcol='mediumseagreen'\n",
    "Qcol='darkkhaki'\n",
    "Hcol= 'royalblue'  \n",
    "\n",
    "tick_fontsize = 15  \n",
    "Fcol='mediumseagreen'\n",
    "Qcol='darkkhaki'\n"
   ]
  },
  {
   "attachments": {},
   "cell_type": "markdown",
   "metadata": {},
   "source": [
    "### FIGURE 3 : Difference plots "
   ]
  },
  {
   "cell_type": "code",
   "execution_count": 7,
   "metadata": {},
   "outputs": [
    {
     "data": {
      "text/plain": [
       "[<matplotlib.axis.XTick at 0x158f0bc40>,\n",
       " <matplotlib.axis.XTick at 0x158f0bc10>,\n",
       " <matplotlib.axis.XTick at 0x158d62760>,\n",
       " <matplotlib.axis.XTick at 0x158d875e0>,\n",
       " <matplotlib.axis.XTick at 0x158d87d30>]"
      ]
     },
     "execution_count": 7,
     "metadata": {},
     "output_type": "execute_result"
    },
    {
     "data": {
      "image/png": "[encoded data removed]",
      "text/plain": [
       "<Figure size 324x216 with 1 Axes>"
      ]
     },
     "metadata": {
      "needs_background": "light"
     },
     "output_type": "display_data"
    }
   ],
   "source": [
    "FOR  = bestDic['FOR'].p_best.loc[bestDic['FOR'].succ==True]\n",
    "QL = bestDic['QL'].p_best[bestDic['QL'].succ==True]\n",
    "c=\"slategray\"\n",
    "ylabel  = \"density\"\n",
    "xlabel  = \"difference in p(best)\"\n",
    "minxlim = -1.25\n",
    "maxlim = 1.25\n",
    "minylim = 0\n",
    "maxylim = 3\n",
    "\n",
    "\n",
    "plt.figure(figsize=(4.5,3))\n",
    "sns.kdeplot(FOR-QL,fill=True , color=c)\n",
    "\n",
    "plt.xlabel(xlabel,fontdict=xfont)  \n",
    "plt.ylabel(ylabel,fontdict=yfont) \n",
    "\n",
    "plt.axvline(0,linestyle='--',c= c)\n",
    "\n",
    "ax = plt.gca()\n",
    "\n",
    "ax.spines['right'].set_visible(False)\n",
    "ax.spines['top'].set_visible(False)\n",
    "\n",
    "plt.tick_params(axis='both', which='major', \n",
    "                labelsize=tick_fontsize, direction='in',\n",
    "                length= 2,\n",
    "                width=1.5)\n",
    "\n",
    "plt.axvspan(ymin=0, ymax=1, xmin =-1.25, xmax=0,color=Qcol, alpha=0.2)\n",
    "plt.axvspan(ymin=0, ymax=1, xmax =1.25, xmin=0,color=Fcol, alpha=0.2)\n",
    "plt.scatter(np.mean(FOR-QL), 2.8, marker='v', s=150, c=c)\n",
    "\n",
    "plt.rcParams['svg.fonttype'] = 'none'\n",
    "plt.rcParams['font.family'] = 'arial'    \n",
    "plt.xlim(minxlim,maxlim)\n",
    "plt.ylim(minylim,maxylim)\n",
    "ax.set_yticks(np.linspace(minylim,maxylim,3))\n",
    "ax.set_xticks(np.arange(-1,1.5,0.5))\n"
   ]
  },
  {
   "cell_type": "code",
   "execution_count": 8,
   "metadata": {},
   "outputs": [
    {
     "data": {
      "text/plain": [
       "[<matplotlib.axis.XTick at 0x158e4bf10>,\n",
       " <matplotlib.axis.XTick at 0x158e4be50>,\n",
       " <matplotlib.axis.XTick at 0x158cc0d00>,\n",
       " <matplotlib.axis.XTick at 0x1598aff40>,\n",
       " <matplotlib.axis.XTick at 0x1598bba30>]"
      ]
     },
     "execution_count": 8,
     "metadata": {},
     "output_type": "execute_result"
    },
    {
     "data": {
      "image/png": "[encoded data removed]",
      "text/plain": [
       "<Figure size 324x216 with 1 Axes>"
      ]
     },
     "metadata": {
      "needs_background": "light"
     },
     "output_type": "display_data"
    }
   ],
   "source": [
    "FOR  = bestDic['FOR'].rwd.loc[bestDic['FOR'].succ==True]\n",
    "QL = bestDic['QL'].rwd.loc[bestDic['QL'].succ==True]\n",
    "c=\"peru\"\n",
    "ylabel  = \"density\"\n",
    "xlabel  = \"difference in reward\"\n",
    "minxlim = -1.5\n",
    "maxlim = 1.5\n",
    "minylim = 0\n",
    "maxylim = 3\n",
    "\n",
    "plt.figure(figsize=(4.5,3))\n",
    "\n",
    "fig = sns.kdeplot(FOR-QL,fill=True , color=c)\n",
    "plt.scatter(np.mean(FOR-QL), 2.8, marker='v', s=150, c=c)\n",
    "\n",
    "plt.xlabel(xlabel,fontdict=xfont)  \n",
    "plt.ylabel(ylabel,fontdict=yfont) \n",
    "\n",
    "plt.axvline(0,linestyle='--',c= c)\n",
    "\n",
    "ax = plt.gca()\n",
    "\n",
    "ax.spines['right'].set_visible(False)\n",
    "ax.spines['top'].set_visible(False)\n",
    "\n",
    "plt.tick_params(axis='both', which='major', \n",
    "                labelsize=tick_fontsize, direction='in',\n",
    "                length= 2,\n",
    "                width=1.5)\n",
    "\n",
    "plt.axvspan(ymin=0, ymax=1, xmin =minxlim, xmax=0,color=Qcol, alpha=0.2)\n",
    "plt.axvspan(ymin=0, ymax=1, xmax =maxlim, xmin=0,color=Fcol, alpha=0.2)\n",
    "plt.rcParams['svg.fonttype'] = 'none'\n",
    "plt.rcParams['font.family'] = 'arial'    \n",
    "plt.xlim(minxlim,maxlim)\n",
    "plt.ylim(minylim,maxylim)\n",
    "ax.set_yticks(np.linspace(minylim,maxylim,3))\n",
    "ax.set_xticks(np.arange(-1,1.5,0.5))\n"
   ]
  },
  {
   "attachments": {},
   "cell_type": "markdown",
   "metadata": {},
   "source": [
    "### FIGURE 3 : p_best and rwd for each model"
   ]
  },
  {
   "cell_type": "code",
   "execution_count": 9,
   "metadata": {},
   "outputs": [
    {
     "data": {
      "text/plain": [
       "<matplotlib.legend.Legend at 0x158ccefd0>"
      ]
     },
     "execution_count": 9,
     "metadata": {},
     "output_type": "execute_result"
    },
    {
     "data": {
      "image/png": "[encoded data removed]",
      "text/plain": [
       "<Figure size 396x216 with 1 Axes>"
      ]
     },
     "metadata": {
      "needs_background": "light"
     },
     "output_type": "display_data"
    }
   ],
   "source": [
    "plt.figure(figsize=(5.5,3))\n",
    "xlabel = \"normalized reward\"\n",
    "ylabel= \"density\"\n",
    "yf = bestDic[\"FOR\"].rwd.loc[bestDic['FOR'].succ==True]\n",
    "yq= bestDic[\"QL\"].rwd.loc[bestDic['QL'].succ==True]\n",
    "sns.kdeplot(yf , color= Fcol,fill=True, label='foraging' )\n",
    "plt.scatter(np.mean(yf), 2.8, marker='v', s=150, c=Fcol)\n",
    "sns.kdeplot(yq, color= Qcol,fill= True, label = 'RL')\n",
    "plt.scatter(np.mean(yq), 2.8, marker='v', s=150, c=Qcol)\n",
    "\n",
    "plt.xlabel(xlabel,fontdict=xfont)  \n",
    "plt.ylabel(ylabel,fontdict=yfont) \n",
    "\n",
    "ax = plt.gca()\n",
    "\n",
    "ax.spines['right'].set_visible(False)\n",
    "ax.spines['top'].set_visible(False)\n",
    "\n",
    "plt.tick_params(axis='both', which='major', \n",
    "                labelsize=tick_fontsize, direction='in',\n",
    "                length= 2,\n",
    "                width=1.5)\n",
    "\n",
    "plt.rcParams['svg.fonttype'] = 'none'\n",
    "plt.rcParams['font.family'] = 'arial'    \n",
    "\n",
    "plt.ylim(0,3)\n",
    "plt.legend(fontsize = 17, frameon=True, loc=\"upper left\")\n",
    "\n",
    "\n"
   ]
  },
  {
   "cell_type": "code",
   "execution_count": 10,
   "metadata": {},
   "outputs": [
    {
     "data": {
      "text/plain": [
       "<matplotlib.legend.Legend at 0x158f53a00>"
      ]
     },
     "execution_count": 10,
     "metadata": {},
     "output_type": "execute_result"
    },
    {
     "data": {
      "image/png": "[encoded data removed]",
      "text/plain": [
       "<Figure size 396x216 with 1 Axes>"
      ]
     },
     "metadata": {
      "needs_background": "light"
     },
     "output_type": "display_data"
    }
   ],
   "source": [
    "plt.figure(figsize=(5.5,3))\n",
    "xlabel = \"p(best)\"\n",
    "ylabel= \"density\"\n",
    "yf = bestDic[\"FOR\"].p_best.loc[bestDic['FOR'].succ==True]\n",
    "yq= bestDic[\"QL\"].p_best.loc[bestDic['QL'].succ==True]\n",
    "\n",
    "\n",
    "sns.kdeplot(yf , color= Fcol,fill=True, label='foraging' )\n",
    "plt.scatter(np.mean(yf), 2.8, marker='v', s=150, c=Fcol)\n",
    "sns.kdeplot(yq, color= Qcol,fill= True, label = 'RL')\n",
    "plt.scatter(np.mean(yq), 2.8, marker='v', s=150, c=Qcol)\n",
    "#     plt.title(title, fontdict=font)\n",
    "plt.xlabel(xlabel,fontdict=xfont)  \n",
    "plt.ylabel(ylabel,fontdict=yfont) \n",
    "# plt.legend(frameon=False, fontsize='x-large', loc='best')\n",
    "ax = plt.gca()\n",
    "# ax.spines['left'].set_position('center')\n",
    "# ax.spines['bottom'].set_position('center')\n",
    "ax.spines['right'].set_visible(False)\n",
    "ax.spines['top'].set_visible(False)\n",
    "\n",
    "plt.tick_params(axis='both', which='major', \n",
    "                labelsize=tick_fontsize, direction='in',\n",
    "                length= 2,\n",
    "                width=1.5)\n",
    "# ax.set_yticks(np.arange(0,0.6,0.25))\n",
    "\n",
    "plt.rcParams['svg.fonttype'] = 'none'\n",
    "plt.rcParams['font.family'] = 'arial'    \n",
    "\n",
    "plt.ylim(0,3)\n",
    "plt.legend(fontsize = 17, frameon=True, loc=\"upper left\")\n",
    "\n"
   ]
  },
  {
   "cell_type": "code",
   "execution_count": 11,
   "metadata": {},
   "outputs": [
    {
     "name": "stdout",
     "output_type": "stream",
     "text": [
      "REWARD STATS\n",
      "WilcoxonResult(statistic=5226.0, pvalue=3.105854170005206e-20)\n",
      "objective best choice STATS\n",
      "WilcoxonResult(statistic=4703.0, pvalue=1.2079025422736163e-23)\n"
     ]
    }
   ],
   "source": [
    "import scipy\n",
    "\n",
    "\n",
    "grp1= bestDic['FOR'].rwd\n",
    "grp2= bestDic['QL'].rwd\n",
    "print('REWARD STATS')\n",
    "print(scipy.stats.wilcoxon(grp1,grp2, alternative='less'))\n",
    "print('objective best choice STATS')\n",
    "\n",
    "grp1= bestDic['FOR'].p_best\n",
    "grp2= bestDic['QL'].p_best\n",
    "\n",
    "print(scipy.stats.wilcoxon(grp1,grp2, alternative='less'))\n"
   ]
  }
 ],
 "metadata": {
  "kernelspec": {
   "display_name": "base",
   "language": "python",
   "name": "python3"
  },
  "language_info": {
   "codemirror_mode": {
    "name": "ipython",
    "version": 3
   },
   "file_extension": ".py",
   "mimetype": "text/x-python",
   "name": "python",
   "nbconvert_exporter": "python",
   "pygments_lexer": "ipython3",
   "version": "3.9.16"
  },
  "orig_nbformat": 4,
  "vscode": {
   "interpreter": {
    "hash": "748a24a7e12f043e255937764f69584c10b2b974a22ed84d52db2de81e21ea53"
   }
  }
 },
 "nbformat": 4,
 "nbformat_minor": 2
}
