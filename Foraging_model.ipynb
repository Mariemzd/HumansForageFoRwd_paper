{
 "cells": [
  {
   "cell_type": "code",
   "execution_count": 12,
   "metadata": {},
   "outputs": [],
   "source": [
    "\n",
    "import numpy as np\n",
    "npa= np.array\n",
    "\n",
    "epsilon = 1e-10\n",
    "def LSE(x): \n",
    "    x = np.array(x)\n",
    "    c=np.max(x)\n",
    "    return c + np.log(np.sum(np.exp(x - c)))"
   ]
  },
  {
   "cell_type": "code",
   "execution_count": 14,
   "metadata": {},
   "outputs": [],
   "source": [
    "def ql_model(theta,df):\n",
    "\n",
    "    sideList= df['choice'].tolist()\n",
    "    rewardList = df['reward'].tolist()\n",
    "    \n",
    "    karm= max(sideList)+1\n",
    "    Qvalue = np.zeros(karm)+(1/karm) \n",
    "\n",
    "    alpha = theta[0]\n",
    "    beta = theta[1]\n",
    "\n",
    "    probList=[]\n",
    "\n",
    "    for i in range (len(rewardList)):\n",
    "        arm = int(sideList[i]) \n",
    "\n",
    "        \n",
    "        ##Softmax function\n",
    "        prob = np.exp((Qvalue[arm]*beta)-LSE(Qvalue*beta))\n",
    "        \n",
    "        probList.append(prob)\n",
    "        Qvalue [arm] += alpha*(rewardList[i]-Qvalue[arm])\n",
    "\n",
    "        ##log likelihood\n",
    "    logLike = (np.sum(np.log(npa(probList)+epsilon))) * (-1)\n",
    "    \n",
    "    return logLike"
   ]
  },
  {
   "cell_type": "code",
   "execution_count": 15,
   "metadata": {},
   "outputs": [],
   "source": [
    "def forage_model(theta,df):  \n",
    "\n",
    "    \n",
    "    sideList= df['choice'].tolist()\n",
    "    rewardList = df['reward'].tolist()\n",
    "    \n",
    "   \n",
    "    oitOreList= []\n",
    "\n",
    "    #switch/explore = 0, stay/exploit = 1\n",
    "    for j in range (len(sideList)-1):  \n",
    "        if sideList[j]==sideList[j+1]:\n",
    "            oitOreList.append(1)\n",
    "        else:\n",
    "            oitOreList.append(0)\n",
    "\n",
    "    rewardList = rewardList[1:]\n",
    "    \n",
    "    \n",
    "\n",
    "    alpha = theta[0]\n",
    "    beta = theta[1]   \n",
    "    rho = theta[2]\n",
    "\n",
    "    v_oit = 1\n",
    "\n",
    "    probList=[]\n",
    "    for i in range (len(rewardList)):\n",
    "        oit = oitOreList[i] # oit or ore \n",
    "            \n",
    "        if oit == 1:\n",
    "            prob = np.exp((v_oit*beta)-LSE([v_oit*beta, rho*beta]))\n",
    "            probList.append(prob)\n",
    "            v_oit += alpha*(rewardList[i]-v_oit)\n",
    "\n",
    "        if oit == 0:\n",
    "            prob = 1-(np.exp((v_oit*beta)-LSE([v_oit*beta, rho*beta])))\n",
    "            probList.append(prob)\n",
    "            v_oit = rho + alpha*(rewardList[i]-rho) \n",
    "    \n",
    "\n",
    "    ##log likelihood\n",
    "    logLike = (np.sum(np.log(npa(probList)+epsilon))) * (-1)\n",
    "  \n",
    "    return logLike"
   ]
  }
 ],
 "metadata": {
  "kernelspec": {
   "display_name": "base",
   "language": "python",
   "name": "python3"
  },
  "language_info": {
   "codemirror_mode": {
    "name": "ipython",
    "version": 3
   },
   "file_extension": ".py",
   "mimetype": "text/x-python",
   "name": "python",
   "nbconvert_exporter": "python",
   "pygments_lexer": "ipython3",
   "version": "3.9.16"
  },
  "orig_nbformat": 4,
  "vscode": {
   "interpreter": {
    "hash": "748a24a7e12f043e255937764f69584c10b2b974a22ed84d52db2de81e21ea53"
   }
  }
 },
 "nbformat": 4,
 "nbformat_minor": 2
}
